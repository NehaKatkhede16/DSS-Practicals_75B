{
 "cells": [
  {
   "cell_type": "markdown",
   "id": "19df3b08-d986-4f48-9356-7e31686f68fd",
   "metadata": {},
   "source": [
    "# Central Tendancy of measures (Mean, Median, Mode  )"
   ]
  },
  {
   "cell_type": "code",
   "execution_count": 1,
   "id": "db956767-9978-4389-a2ba-958d9307e2f6",
   "metadata": {},
   "outputs": [],
   "source": [
    "#Expt 8: To find Central Tendancy of measures (Mean, Median, Mode)"
   ]
  },
  {
   "cell_type": "code",
   "execution_count": 3,
   "id": "2a899f37-673e-40fe-a9a7-79a65cdf4a54",
   "metadata": {},
   "outputs": [],
   "source": [
    "#Name : Neha S. Katkhede\n",
    "#Roll no. : 75 (DS-75)\n",
    "#Section : B\n",
    "#Subject : PE-I\n",
    "#Date : 09-09-2024"
   ]
  },
  {
   "cell_type": "code",
   "execution_count": 4,
   "id": "bc752b98-ecf0-4bc6-b14a-4a55c0c29721",
   "metadata": {},
   "outputs": [],
   "source": [
    "age=[21,22,25,23,24,26,25,25,28,29,27,29,26,24,23,23,23,21,23]"
   ]
  },
  {
   "cell_type": "code",
   "execution_count": 6,
   "id": "475b9ec8-79e6-418f-a63d-0c8cab273ddc",
   "metadata": {},
   "outputs": [
    {
     "data": {
      "text/plain": [
       "[21, 22, 25, 23, 24, 26, 25, 25, 28, 29, 27, 29, 26, 24, 23, 23, 23, 21, 23]"
      ]
     },
     "execution_count": 6,
     "metadata": {},
     "output_type": "execute_result"
    }
   ],
   "source": [
    "age"
   ]
  },
  {
   "cell_type": "code",
   "execution_count": 8,
   "id": "57d011d4-e371-4abf-9501-6c931e07c881",
   "metadata": {},
   "outputs": [],
   "source": [
    "import statistics"
   ]
  },
  {
   "cell_type": "code",
   "execution_count": 10,
   "id": "608cb035-5173-4364-a444-9cc21fd6bfe2",
   "metadata": {},
   "outputs": [],
   "source": [
    "Mean=statistics.mean(age)"
   ]
  },
  {
   "cell_type": "code",
   "execution_count": 11,
   "id": "eeea3b52-e34b-46d8-a5d2-073d7f1d3982",
   "metadata": {},
   "outputs": [
    {
     "data": {
      "text/plain": [
       "24.57894736842105"
      ]
     },
     "execution_count": 11,
     "metadata": {},
     "output_type": "execute_result"
    }
   ],
   "source": [
    "Mean"
   ]
  },
  {
   "cell_type": "code",
   "execution_count": 13,
   "id": "162a2771-2cb9-4aef-a308-df58b23b6e35",
   "metadata": {},
   "outputs": [],
   "source": [
    "Median=statistics.median(age)"
   ]
  },
  {
   "cell_type": "code",
   "execution_count": 14,
   "id": "a05e8f83-57e4-4b6f-bb13-27c22dadad61",
   "metadata": {},
   "outputs": [
    {
     "data": {
      "text/plain": [
       "24"
      ]
     },
     "execution_count": 14,
     "metadata": {},
     "output_type": "execute_result"
    }
   ],
   "source": [
    "Median"
   ]
  },
  {
   "cell_type": "code",
   "execution_count": 15,
   "id": "68360ada-d42d-4fbb-bec3-e4ac3521dbbd",
   "metadata": {},
   "outputs": [],
   "source": [
    "Mode=statistics.mode(age)"
   ]
  },
  {
   "cell_type": "code",
   "execution_count": 16,
   "id": "bca87727-7731-4fa6-9ba6-ed5d771dd284",
   "metadata": {},
   "outputs": [
    {
     "data": {
      "text/plain": [
       "23"
      ]
     },
     "execution_count": 16,
     "metadata": {},
     "output_type": "execute_result"
    }
   ],
   "source": [
    "Mode"
   ]
  },
  {
   "cell_type": "code",
   "execution_count": null,
   "id": "8a25fe7b-8c40-4f54-ac95-84e54ad02869",
   "metadata": {},
   "outputs": [],
   "source": []
  }
 ],
 "metadata": {
  "kernelspec": {
   "display_name": "Python 3 (ipykernel)",
   "language": "python",
   "name": "python3"
  },
  "language_info": {
   "codemirror_mode": {
    "name": "ipython",
    "version": 3
   },
   "file_extension": ".py",
   "mimetype": "text/x-python",
   "name": "python",
   "nbconvert_exporter": "python",
   "pygments_lexer": "ipython3",
   "version": "3.11.5"
  }
 },
 "nbformat": 4,
 "nbformat_minor": 5
}
