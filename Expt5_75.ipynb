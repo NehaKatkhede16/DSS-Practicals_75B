{
 "cells": [
  {
   "cell_type": "markdown",
   "id": "b7c23cde-0163-4a9b-8562-01c3c7dc2aa2",
   "metadata": {},
   "source": [
    "# Creation of array using Numpy"
   ]
  },
  {
   "cell_type": "code",
   "execution_count": 2,
   "id": "4e653fe9-5711-4951-b3d0-0047fb5ce177",
   "metadata": {},
   "outputs": [],
   "source": [
    "#Exp no. : 5"
   ]
  },
  {
   "cell_type": "code",
   "execution_count": 3,
   "id": "b0c34835-2b58-4c07-ad2b-75a8e2d75382",
   "metadata": {},
   "outputs": [],
   "source": [
    "#Name : Neha S. Katkhede\n",
    "#Roll no. : 75 (DS-75)\n",
    "#Section : B\n",
    "#Subject : PE-I\n",
    "#Date : 03-08-2024"
   ]
  },
  {
   "cell_type": "code",
   "execution_count": 4,
   "id": "c315da4c-822d-475e-8590-94b901222ea1",
   "metadata": {},
   "outputs": [],
   "source": [
    "import numpy as np"
   ]
  },
  {
   "cell_type": "code",
   "execution_count": 5,
   "id": "749f292b-c956-403c-85f2-cd1d86698d32",
   "metadata": {},
   "outputs": [],
   "source": [
    "arr1=np.array([10,20,30,40,50])"
   ]
  },
  {
   "cell_type": "code",
   "execution_count": 6,
   "id": "372a0a7a-4d06-488d-ad1d-536009568a21",
   "metadata": {},
   "outputs": [
    {
     "data": {
      "text/plain": [
       "array([10, 20, 30, 40, 50])"
      ]
     },
     "execution_count": 6,
     "metadata": {},
     "output_type": "execute_result"
    }
   ],
   "source": [
    "arr1"
   ]
  },
  {
   "cell_type": "code",
   "execution_count": 7,
   "id": "789b9b54-a9d4-4fb7-b6e3-e5b35c8b4d56",
   "metadata": {},
   "outputs": [],
   "source": [
    "arr2=np.array([[10,20,30,40,50],[60,70,80,90,100]])"
   ]
  },
  {
   "cell_type": "code",
   "execution_count": 8,
   "id": "aa4cdc5d-28d0-4d1b-b376-7e7de3286305",
   "metadata": {},
   "outputs": [
    {
     "data": {
      "text/plain": [
       "array([[ 10,  20,  30,  40,  50],\n",
       "       [ 60,  70,  80,  90, 100]])"
      ]
     },
     "execution_count": 8,
     "metadata": {},
     "output_type": "execute_result"
    }
   ],
   "source": [
    "arr2"
   ]
  },
  {
   "cell_type": "code",
   "execution_count": null,
   "id": "8212edb8-a272-4c21-a819-9627352e0175",
   "metadata": {},
   "outputs": [],
   "source": []
  }
 ],
 "metadata": {
  "kernelspec": {
   "display_name": "Python 3 (ipykernel)",
   "language": "python",
   "name": "python3"
  },
  "language_info": {
   "codemirror_mode": {
    "name": "ipython",
    "version": 3
   },
   "file_extension": ".py",
   "mimetype": "text/x-python",
   "name": "python",
   "nbconvert_exporter": "python",
   "pygments_lexer": "ipython3",
   "version": "3.11.5"
  }
 },
 "nbformat": 4,
 "nbformat_minor": 5
}
